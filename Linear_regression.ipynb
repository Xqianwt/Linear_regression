{
 "cells": [
  {
   "cell_type": "code",
   "execution_count": 1,
   "metadata": {
    "collapsed": true
   },
   "outputs": [],
   "source": [
    "import numpy as np"
   ]
  },
  {
   "cell_type": "code",
   "execution_count": 2,
   "metadata": {
    "collapsed": true
   },
   "outputs": [],
   "source": [
    "def Sigmoid(x):\n",
    "    return 1/(1+np.exp(-x))"
   ]
  },
  {
   "cell_type": "code",
   "execution_count": 3,
   "metadata": {},
   "outputs": [
    {
     "ename": "NameError",
     "evalue": "name 'sigmoid' is not defined",
     "output_type": "error",
     "traceback": [
      "\u001b[0;31m---------------------------------------------------------------------------\u001b[0m",
      "\u001b[0;31mNameError\u001b[0m                                 Traceback (most recent call last)",
      "\u001b[0;32m<ipython-input-3-28645c790601>\u001b[0m in \u001b[0;36m<module>\u001b[0;34m()\u001b[0m\n\u001b[0;32m----> 1\u001b[0;31m \u001b[0msigmoid\u001b[0m\u001b[0;34m(\u001b[0m\u001b[0;36m1\u001b[0m\u001b[0;34m)\u001b[0m\u001b[0;34m\u001b[0m\u001b[0m\n\u001b[0m",
      "\u001b[0;31mNameError\u001b[0m: name 'sigmoid' is not defined"
     ]
    }
   ],
   "source": []
  },
  {
   "cell_type": "code",
   "execution_count": 5,
   "metadata": {},
   "outputs": [],
   "source": [
    "def Hessian(input_data, label, beta, length):\n",
    "    gradient = np.mat([0]*length, dtype = np.float64).T\n",
    "    hessian = np.mat([[0]*length]*length, dtype = np.float64)\n",
    "    for i in range(len(input_data)):\n",
    "        row = np.mat(list(input_data.iloc[i])).T\n",
    "        pro0 = float(Sigmoid(-beta*row))\n",
    "        gradient += row*(1-pro0-label[i])\n",
    "        hessian += row * row.T *(1-pro0)*pro0\n",
    "    return gradient, hessian  "
   ]
  },
  {
   "cell_type": "code",
   "execution_count": 6,
   "metadata": {
    "collapsed": true
   },
   "outputs": [],
   "source": [
    "def Newton(input_data, label, iter_num = 20):\n",
    "    length =len(input_data.iloc[0])\n",
    "    beta_init = np.mat([0]*length)\n",
    "    for i in range(iter_num):\n",
    "        gradient, hessian = Hessian(input_data, label, beta_init, length)\n",
    "        beta = beta_init - (hessian.I * gradient).T\n",
    "        print(beta)\n",
    "        beta_init = beta\n",
    "    return beta    "
   ]
  },
  {
   "cell_type": "code",
   "execution_count": 7,
   "metadata": {
    "collapsed": true
   },
   "outputs": [],
   "source": [
    "import pandas as pd\n",
    "df = pd.read_csv('/root/ex3.2.csv', sep= '\\t' )"
   ]
  },
  {
   "cell_type": "code",
   "execution_count": null,
   "metadata": {},
   "outputs": [],
   "source": [
    "np.mat(list(df.iloc[3]))"
   ]
  },
  {
   "cell_type": "code",
   "execution_count": 8,
   "metadata": {
    "collapsed": true
   },
   "outputs": [],
   "source": [
    "data = df[df.columns[:-1]]\n",
    "data['e'] = [1]*len(data)"
   ]
  },
  {
   "cell_type": "code",
   "execution_count": 9,
   "metadata": {
    "collapsed": true
   },
   "outputs": [],
   "source": [
    "label = df[df.columns[-1]]"
   ]
  },
  {
   "cell_type": "code",
   "execution_count": null,
   "metadata": {},
   "outputs": [],
   "source": [
    "data.head()"
   ]
  },
  {
   "cell_type": "code",
   "execution_count": 10,
   "metadata": {},
   "outputs": [
    {
     "name": "stdout",
     "output_type": "stream",
     "text": [
      "[[ 0.35348642 -0.38387881  2.6338204 ]]\n",
      "[[ 0.55277077 -0.6689599   4.73812723]]\n",
      "[[ 0.73916086 -1.00289552  7.26889383]]\n",
      "[[ 0.94117862 -1.3870536  10.1760878 ]]\n",
      "[[ 1.12941789 -1.74673676 12.86797032]]\n",
      "[[ 1.23189457 -1.95422517 14.39976378]]\n",
      "[[ 1.25280867 -2.00079391 14.73864574]]\n",
      "[[ 1.25358179 -2.00266972 14.75212626]]\n",
      "[[ 1.25358296 -2.00267269 14.75214744]]\n",
      "[[ 1.25358296 -2.00267269 14.75214744]]\n",
      "[[ 1.25358296 -2.00267269 14.75214744]]\n",
      "[[ 1.25358296 -2.00267269 14.75214744]]\n",
      "[[ 1.25358296 -2.00267269 14.75214744]]\n",
      "[[ 1.25358296 -2.00267269 14.75214744]]\n",
      "[[ 1.25358296 -2.00267269 14.75214744]]\n",
      "[[ 1.25358296 -2.00267269 14.75214744]]\n",
      "[[ 1.25358296 -2.00267269 14.75214744]]\n",
      "[[ 1.25358296 -2.00267269 14.75214744]]\n",
      "[[ 1.25358296 -2.00267269 14.75214744]]\n",
      "[[ 1.25358296 -2.00267269 14.75214744]]\n"
     ]
    }
   ],
   "source": [
    "b= Newton(data, label)"
   ]
  },
  {
   "cell_type": "code",
   "execution_count": null,
   "metadata": {},
   "outputs": [],
   "source": []
  },
  {
   "cell_type": "code",
   "execution_count": null,
   "metadata": {
    "collapsed": true
   },
   "outputs": [],
   "source": []
  },
  {
   "cell_type": "code",
   "execution_count": null,
   "metadata": {},
   "outputs": [],
   "source": []
  },
  {
   "cell_type": "code",
   "execution_count": null,
   "metadata": {
    "collapsed": true
   },
   "outputs": [],
   "source": [
    " r= np.mat(list(data.iloc[0])).T"
   ]
  },
  {
   "cell_type": "code",
   "execution_count": null,
   "metadata": {},
   "outputs": [],
   "source": [
    "r*r.T*2*1"
   ]
  },
  {
   "cell_type": "code",
   "execution_count": null,
   "metadata": {
    "collapsed": true
   },
   "outputs": [],
   "source": [
    "a = np.mat([1])"
   ]
  },
  {
   "cell_type": "code",
   "execution_count": null,
   "metadata": {},
   "outputs": [],
   "source": [
    "a"
   ]
  },
  {
   "cell_type": "code",
   "execution_count": null,
   "metadata": {},
   "outputs": [],
   "source": [
    "r*r.T*np.float(a)"
   ]
  },
  {
   "cell_type": "code",
   "execution_count": null,
   "metadata": {
    "collapsed": true
   },
   "outputs": [],
   "source": []
  }
 ],
 "metadata": {
  "kernelspec": {
   "display_name": "Python 3",
   "language": "python",
   "name": "python3"
  },
  "language_info": {
   "codemirror_mode": {
    "name": "ipython",
    "version": 3
   },
   "file_extension": ".py",
   "mimetype": "text/x-python",
   "name": "python",
   "nbconvert_exporter": "python",
   "pygments_lexer": "ipython3",
   "version": "3.6.2"
  }
 },
 "nbformat": 4,
 "nbformat_minor": 2
}
